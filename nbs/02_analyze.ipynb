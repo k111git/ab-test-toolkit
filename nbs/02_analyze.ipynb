{
 "cells": [
  {
   "cell_type": "markdown",
   "metadata": {},
   "source": [
    "# Analysis of experiments\n",
    "\n",
    "> Methods to analyse experiments once they are completed."
   ]
  },
  {
   "cell_type": "code",
   "execution_count": null,
   "metadata": {},
   "outputs": [],
   "source": [
    "%load_ext autoreload\n",
    "%autoreload 2"
   ]
  },
  {
   "cell_type": "code",
   "execution_count": null,
   "metadata": {},
   "outputs": [],
   "source": [
    "# | default_exp analyze"
   ]
  },
  {
   "cell_type": "code",
   "execution_count": null,
   "metadata": {},
   "outputs": [
    {
     "name": "stderr",
     "output_type": "stream",
     "text": [
      "DEBUG:jupyter_black:config: {'line_length': 79, 'target_versions': {<TargetVersion.PY310: 10>}}\n"
     ]
    },
    {
     "data": {
      "text/html": [
       "\n",
       "                <script type=\"application/javascript\" id=\"jupyter_black\">\n",
       "                function jb_set_cell(\n",
       "                        jb_formatted_code\n",
       "                        ) {\n",
       "                    for (var cell of Jupyter.notebook.get_cells()) {\n",
       "                        if (cell.input_prompt_number == \"*\") {\n",
       "                            cell.set_text(jb_formatted_code)\n",
       "                            return\n",
       "                        }\n",
       "                    }\n",
       "                }\n",
       "                </script>\n",
       "                "
      ],
      "text/plain": [
       "<IPython.core.display.HTML object>"
      ]
     },
     "metadata": {},
     "output_type": "display_data"
    }
   ],
   "source": [
    "#| hide \n",
    "import black\n",
    "import jupyter_black\n",
    "\n",
    "jupyter_black.load(\n",
    "    lab=False,\n",
    "    line_length=79,\n",
    "    verbosity=\"DEBUG\",\n",
    "    target_version=black.TargetVersion.PY310,\n",
    ")"
   ]
  },
  {
   "cell_type": "code",
   "execution_count": null,
   "metadata": {},
   "outputs": [
    {
     "ename": "ImportError",
     "evalue": "cannot import name 'contingency_from_counts' from 'ab_test_toolkit.generator' (/home/kolja/Projects/ab-test-toolkit/ab_test_toolkit/generator.py)",
     "output_type": "error",
     "traceback": [
      "\u001b[0;31m---------------------------------------------------------------------------\u001b[0m",
      "\u001b[0;31mImportError\u001b[0m                               Traceback (most recent call last)",
      "Cell \u001b[0;32mIn[4], line 2\u001b[0m\n\u001b[1;32m      1\u001b[0m \u001b[38;5;66;03m# | hide\u001b[39;00m\n\u001b[0;32m----> 2\u001b[0m \u001b[38;5;28;01mfrom\u001b[39;00m \u001b[38;5;21;01mab_test_toolkit\u001b[39;00m\u001b[38;5;21;01m.\u001b[39;00m\u001b[38;5;21;01mgenerator\u001b[39;00m \u001b[38;5;28;01mimport\u001b[39;00m (\n\u001b[1;32m      3\u001b[0m     generate_binary_data,\n\u001b[1;32m      4\u001b[0m     generate_continuous_data,\n\u001b[1;32m      5\u001b[0m     contingency_from_counts,\n\u001b[1;32m      6\u001b[0m )\n\u001b[1;32m      7\u001b[0m \u001b[38;5;28;01mfrom\u001b[39;00m \u001b[38;5;21;01mab_test_toolkit\u001b[39;00m\u001b[38;5;21;01m.\u001b[39;00m\u001b[38;5;21;01mpower\u001b[39;00m \u001b[38;5;28;01mimport\u001b[39;00m (\n\u001b[1;32m      8\u001b[0m     simulate_power_binary,\n\u001b[1;32m      9\u001b[0m     sample_size_binary,\n\u001b[1;32m     10\u001b[0m     simulate_power_continuous,\n\u001b[1;32m     11\u001b[0m     sample_size_continuous,\n\u001b[1;32m     12\u001b[0m )\n\u001b[1;32m     13\u001b[0m \u001b[38;5;28;01mfrom\u001b[39;00m \u001b[38;5;21;01mab_test_toolkit\u001b[39;00m\u001b[38;5;21;01m.\u001b[39;00m\u001b[38;5;21;01mplotting\u001b[39;00m \u001b[38;5;28;01mimport\u001b[39;00m (\n\u001b[1;32m     14\u001b[0m     plot_power,\n\u001b[1;32m     15\u001b[0m     plot_distribution,\n\u001b[1;32m     16\u001b[0m     plot_betas,\n\u001b[1;32m     17\u001b[0m )\n",
      "\u001b[0;31mImportError\u001b[0m: cannot import name 'contingency_from_counts' from 'ab_test_toolkit.generator' (/home/kolja/Projects/ab-test-toolkit/ab_test_toolkit/generator.py)"
     ]
    }
   ],
   "source": [
    "# | hide\n",
    "from ab_test_toolkit.generator import (\n",
    "    generate_binary_data,\n",
    "    generate_continuous_data,\n",
    "    contingency_from_counts,\n",
    ")\n",
    "from ab_test_toolkit.power import (\n",
    "    simulate_power_binary,\n",
    "    sample_size_binary,\n",
    "    simulate_power_continuous,\n",
    "    sample_size_continuous,\n",
    ")\n",
    "from ab_test_toolkit.plotting import (\n",
    "    plot_power,\n",
    "    plot_distribution,\n",
    "    plot_betas,\n",
    ")"
   ]
  },
  {
   "cell_type": "code",
   "execution_count": null,
   "metadata": {},
   "outputs": [],
   "source": [
    "# | export\n",
    "from scipy.stats import fisher_exact"
   ]
  },
  {
   "cell_type": "code",
   "execution_count": null,
   "metadata": {},
   "outputs": [],
   "source": [
    "# | export\n",
    "def p_value_binary(df_contingency, one_sided=True):\n",
    "    if one_sided == True:\n",
    "        alternative = \"greater\"\n",
    "    else:\n",
    "        alternative = \"two-sided\"\n",
    "    _, p_fischer = fisher_exact(\n",
    "        np.array(df_contingency[[\"not_converted\", \"converted\"]]),\n",
    "        alternative=alternative,\n",
    "    )\n",
    "    return p_fischer"
   ]
  },
  {
   "cell_type": "code",
   "execution_count": null,
   "metadata": {},
   "outputs": [],
   "source": [
    "#| export \n",
    "def p_value_binary_from_counts(n0, c0, n1, c1, one_sided=True):\n",
    "    '''\n",
    "    Return the p value for conversion rate experiment. Inputs:\n",
    "    n0: Users control group\n",
    "    c0: Converted users control group\n",
    "    n1: Users treatment group\n",
    "    c1: Converted users treatment group\n",
    "    '''\n",
    "    df_contingency = contingency_from_counts(n0, c0, n1, c1)\n",
    "    return p_value_binary(df_contingency, one_sided=one_sided)"
   ]
  },
  {
   "cell_type": "code",
   "execution_count": null,
   "metadata": {},
   "outputs": [],
   "source": []
  },
  {
   "cell_type": "code",
   "execution_count": null,
   "metadata": {},
   "outputs": [],
   "source": [
    "# | hide\n",
    "from nbdev.showdoc import *"
   ]
  },
  {
   "cell_type": "code",
   "execution_count": null,
   "metadata": {},
   "outputs": [],
   "source": [
    "# | hide\n",
    "import nbdev\n",
    "\n",
    "nbdev.nbdev_export()"
   ]
  },
  {
   "cell_type": "code",
   "execution_count": null,
   "metadata": {},
   "outputs": [],
   "source": []
  }
 ],
 "metadata": {
  "kernelspec": {
   "display_name": "python3",
   "language": "python",
   "name": "python3"
  }
 },
 "nbformat": 4,
 "nbformat_minor": 4
}
