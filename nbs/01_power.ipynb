{
 "cells": [
  {
   "cell_type": "markdown",
   "metadata": {},
   "source": [
    "# Power\n",
    "\n",
    "> Power analysis for simple AB experiments"
   ]
  },
  {
   "cell_type": "code",
   "execution_count": null,
   "metadata": {},
   "outputs": [],
   "source": [
    "%load_ext autoreload\n",
    "%autoreload 2"
   ]
  },
  {
   "cell_type": "code",
   "execution_count": null,
   "metadata": {},
   "outputs": [
    {
     "data": {
      "text/html": [
       "        <script type=\"text/javascript\">\n",
       "        window.PlotlyConfig = {MathJaxConfig: 'local'};\n",
       "        if (window.MathJax && window.MathJax.Hub && window.MathJax.Hub.Config) {window.MathJax.Hub.Config({SVG: {font: \"STIX-Web\"}});}\n",
       "        if (typeof require !== 'undefined') {\n",
       "        require.undef(\"plotly\");\n",
       "        requirejs.config({\n",
       "            paths: {\n",
       "                'plotly': ['https://cdn.plot.ly/plotly-2.20.0.min']\n",
       "            }\n",
       "        });\n",
       "        require(['plotly'], function(Plotly) {\n",
       "            window._Plotly = Plotly;\n",
       "        });\n",
       "        }\n",
       "        </script>\n",
       "        "
      ]
     },
     "metadata": {},
     "output_type": "display_data"
    }
   ],
   "source": [
    "#| hide\n",
    "from plotly.offline import init_notebook_mode\n",
    "\n",
    "init_notebook_mode(connected=True)"
   ]
  },
  {
   "cell_type": "code",
   "execution_count": null,
   "metadata": {},
   "outputs": [
    {
     "name": "stderr",
     "output_type": "stream",
     "text": [
      "DEBUG:jupyter_black:config: {'line_length': 79, 'target_versions': {<TargetVersion.PY310: 10>}}\n"
     ]
    },
    {
     "data": {
      "application/javascript": [
       "\n",
       "            (function() {\n",
       "                jb_set_cell(\"# |hide\\nfrom ab_test_simulator.generator import plot_distribution\\n\\n# plot_distribution(df)\")\n",
       "            })();\n",
       "            "
      ],
      "text/plain": [
       "<IPython.core.display.Javascript object>"
      ]
     },
     "metadata": {},
     "output_type": "display_data"
    }
   ],
   "source": [
    "#| hide \n",
    "import black\n",
    "import jupyter_black\n",
    "\n",
    "jupyter_black.load(\n",
    "    lab=False,\n",
    "    line_length=79,\n",
    "    verbosity=\"DEBUG\",\n",
    "    target_version=black.TargetVersion.PY310,\n",
    ")"
   ]
  },
  {
   "cell_type": "code",
   "execution_count": null,
   "metadata": {},
   "outputs": [],
   "source": [
    "# | hide\n",
    "import black\n",
    "import jupyter_black\n",
    "\n",
    "jupyter_black.load(\n",
    "    lab=False,\n",
    "    line_length=79,\n",
    "    verbosity=\"DEBUG\",\n",
    "    target_version=black.TargetVersion.PY310,\n",
    ")"
   ]
  },
  {
   "cell_type": "code",
   "execution_count": null,
   "metadata": {},
   "outputs": [],
   "source": [
    "# | default_exp power"
   ]
  },
  {
   "cell_type": "code",
   "execution_count": null,
   "metadata": {},
   "outputs": [],
   "source": [
    "# | export\n",
    "import numpy as np\n",
    "import pandas as pd\n",
    "\n",
    "from scipy import interpolate\n",
    "\n",
    "import plotly.graph_objects as go\n",
    "from plotly.subplots import make_subplots\n",
    "import plotly.figure_factory as ff\n",
    "\n",
    "import statsmodels.stats.api as sms\n",
    "from statsmodels.stats.proportion import proportions_ztest\n",
    "from scipy.stats import chi2_contingency, ttest_ind, fisher_exact, binom, norm\n",
    "\n",
    "\n",
    "from ab_test_toolkit.generator import (\n",
    "    generate_binary_data,\n",
    "    data_to_contingency,\n",
    "    generate_continuous_data,\n",
    "    generate_contingency\n",
    ")\n",
    "\n",
    "from bayesian_testing.experiments import BinaryDataTest, NormalDataTest"
   ]
  },
  {
   "cell_type": "code",
   "execution_count": null,
   "metadata": {},
   "outputs": [],
   "source": [
    "# | export\n",
    "def _compute_sample_size_from_powerline(sizes, powerline, power):\n",
    "    \"\"\"\n",
    "    Helper function to interpolate power line and return sample size\n",
    "    \"\"\"\n",
    "    yreduced = np.array(powerline) - power\n",
    "    freduced = interpolate.UnivariateSpline(sizes, yreduced, s=0)\n",
    "    freduced_root = freduced.roots()\n",
    "    if len(freduced_root > 0):\n",
    "        sample_size = freduced_root[0]\n",
    "    else:\n",
    "        sample_size = np.nan\n",
    "    return sample_size"
   ]
  },
  {
   "cell_type": "code",
   "execution_count": null,
   "metadata": {},
   "outputs": [],
   "source": [
    "# | export\n",
    "def simulate_power_binary(\n",
    "    sizes=np.arange(10000, 100001, 10000),\n",
    "    cr0=0.010,\n",
    "    cr1=0.012,\n",
    "    realizations=1000,\n",
    "    alpha=0.05,\n",
    "    one_sided=True,\n",
    "    power=0.8,\n",
    "    fast=True\n",
    "):\n",
    "    \"\"\"\n",
    "    Simulates the power using two test: Bayesian testing (Probability B>A) and fisher test (p-value).\n",
    "    Return total sample size (e.g. we need to devide by 2 for each variant sample size given 50/50 split)\n",
    "    Fast = True: Contigency table drawn from binom distribution\n",
    "    Fast = False: Contigency table built form data generated at individual level\n",
    "    \"\"\"\n",
    "    if one_sided == True:\n",
    "        alternative = \"greater\"\n",
    "        alternative_z = \"larger\"\n",
    "        print(\"One sided.\")\n",
    "    else:\n",
    "        alternative = \"two-sided\"\n",
    "        alternative_z = \"two-sided\"\n",
    "        print(\"Two sided tests, except for bayesian which is one sided.\")\n",
    "    approaches = [\"fisher\", \"z\", \"bayes\"]\n",
    "    pvs = dict()\n",
    "    pvs_fisher = dict()\n",
    "    pvs_z = dict()\n",
    "    # run simulations for each sample size\n",
    "    for idx, size in enumerate(sizes):\n",
    "        pvs[idx] = []\n",
    "        pvs_fisher[idx] = []\n",
    "        pvs_z[idx] = []\n",
    "        for realization in range(0, realizations):\n",
    "            if fast==False:\n",
    "                df_binary = generate_binary_data(N=size, cr0=cr0, cr1=cr1)\n",
    "                df_contingency = data_to_contingency(df_binary)\n",
    "            elif fast==True:\n",
    "                df_contingency = generate_contingency(N=size, cr0=cr0, cr1=cr1,exact=False)\n",
    "            else:\n",
    "                raise Exception(\"Invalid input for fast parameter.\")\n",
    "            test = BinaryDataTest()\n",
    "            for group in [0, 1]:\n",
    "                nUser = df_contingency.loc[group].users\n",
    "                nConverted = df_contingency.loc[group].converted\n",
    "                test.add_variant_data_agg(\n",
    "                    str(group), totals=nUser, positives=nConverted\n",
    "                )\n",
    "            results = test.evaluate(sim_count=2000)\n",
    "            pvs[idx].append(results[1][\"prob_being_best\"])\n",
    "            _, p_fischer = fisher_exact(\n",
    "                np.array(df_contingency[[\"not_converted\", \"converted\"]]),\n",
    "                alternative=alternative,\n",
    "            )\n",
    "            pvs_fisher[idx].append(p_fischer)\n",
    "            _, p_z = proportions_ztest(\n",
    "                [\n",
    "                    df_contingency.loc[1].converted,\n",
    "                    df_contingency.loc[0].converted,\n",
    "                ],\n",
    "                nobs=size,\n",
    "                alternative=alternative_z,\n",
    "            )\n",
    "            pvs_z[idx].append(p_z)\n",
    "        print(f\"{idx} done\")\n",
    "    pvalues_results = {\n",
    "        \"fisher\": pvs_fisher,\n",
    "        \"bayes\": pvs,\n",
    "        \"z\": pvs_z,\n",
    "    }\n",
    "    # compute power lines\n",
    "    power_lines = dict()\n",
    "    power_lines[\"bayes\"] = [\n",
    "        (np.array(pvalues_results[\"bayes\"][i]) > 1.0 - alpha).sum()\n",
    "        / realizations\n",
    "        for i in range(0, len(sizes))\n",
    "    ]\n",
    "    for approach in [x for x in approaches if x != \"bayes\"]:\n",
    "        power_lines[approach] = [\n",
    "            (np.array(pvalues_results[approach][i]) < alpha).sum()\n",
    "            / realizations\n",
    "            for i in range(0, len(sizes))\n",
    "        ]\n",
    "    # get sample size for 0.8 power:\n",
    "    sample_sizes = dict()\n",
    "    for approach in approaches:\n",
    "        sample_sizes[approach] = _compute_sample_size_from_powerline(\n",
    "            sizes, power_lines[approach], power\n",
    "        )\n",
    "    # prepare output\n",
    "    out = dict()\n",
    "    out[\"sizes\"] = sizes\n",
    "    out[\"approaches\"] = approaches\n",
    "    for approach in approaches:\n",
    "        out[f\"power_{approach}\"] = power_lines[approach]\n",
    "        out[f\"sample_size_{approach}\"] = sample_sizes[approach]\n",
    "    return out"
   ]
  },
  {
   "cell_type": "code",
   "execution_count": null,
   "metadata": {},
   "outputs": [],
   "source": [
    "# |export\n",
    "def sample_size_binary(\n",
    "    cr0=0.010, cr1=0.012, alpha=0.05, power=0.8, one_sided=True\n",
    "):\n",
    "    \"\"\"\n",
    "    Calculates the sample size for chi2 using sns package\n",
    "    \"\"\"\n",
    "    alternative = \"larger\" if one_sided == True else \"two-sided\"\n",
    "    effect_size = sms.proportion_effectsize(cr1, cr0)\n",
    "\n",
    "    required_n = sms.NormalIndPower().solve_power(\n",
    "        effect_size, power=power, alpha=alpha, ratio=1, alternative=alternative\n",
    "    )\n",
    "\n",
    "    return required_n"
   ]
  },
  {
   "cell_type": "code",
   "execution_count": null,
   "metadata": {},
   "outputs": [
    {
     "data": {
      "text/html": [
       "<div>\n",
       "<style scoped>\n",
       "    .dataframe tbody tr th:only-of-type {\n",
       "        vertical-align: middle;\n",
       "    }\n",
       "\n",
       "    .dataframe tbody tr th {\n",
       "        vertical-align: top;\n",
       "    }\n",
       "\n",
       "    .dataframe thead th {\n",
       "        text-align: right;\n",
       "    }\n",
       "</style>\n",
       "<table border=\"1\" class=\"dataframe\">\n",
       "  <thead>\n",
       "    <tr style=\"text-align: right;\">\n",
       "      <th></th>\n",
       "      <th>individual</th>\n",
       "      <th>group</th>\n",
       "      <th>target</th>\n",
       "    </tr>\n",
       "  </thead>\n",
       "  <tbody>\n",
       "    <tr>\n",
       "      <th>0</th>\n",
       "      <td>1</td>\n",
       "      <td>0</td>\n",
       "      <td>5.200577</td>\n",
       "    </tr>\n",
       "    <tr>\n",
       "      <th>1</th>\n",
       "      <td>2</td>\n",
       "      <td>1</td>\n",
       "      <td>3.818804</td>\n",
       "    </tr>\n",
       "    <tr>\n",
       "      <th>2</th>\n",
       "      <td>3</td>\n",
       "      <td>1</td>\n",
       "      <td>4.346325</td>\n",
       "    </tr>\n",
       "    <tr>\n",
       "      <th>3</th>\n",
       "      <td>4</td>\n",
       "      <td>1</td>\n",
       "      <td>6.297678</td>\n",
       "    </tr>\n",
       "    <tr>\n",
       "      <th>4</th>\n",
       "      <td>5</td>\n",
       "      <td>0</td>\n",
       "      <td>6.037158</td>\n",
       "    </tr>\n",
       "  </tbody>\n",
       "</table>\n",
       "</div>"
      ],
      "text/plain": [
       "   individual  group    target\n",
       "0           1      0  5.200577\n",
       "1           2      1  3.818804\n",
       "2           3      1  4.346325\n",
       "3           4      1  6.297678\n",
       "4           5      0  6.037158"
      ]
     },
     "execution_count": null,
     "metadata": {},
     "output_type": "execute_result"
    }
   ],
   "source": [
    "# | hide\n",
    "df = generate_continuous_data(effect=1)\n",
    "df.head()"
   ]
  },
  {
   "cell_type": "code",
   "execution_count": null,
   "metadata": {},
   "outputs": [],
   "source": [
    "# | export\n",
    "def simulate_power_continuous(\n",
    "    sizes=np.arange(1000, 20001, 2000),\n",
    "    effect=0.05,\n",
    "    realizations=1000,\n",
    "    alpha=0.05,\n",
    "    one_sided=True,\n",
    "    power=0.8,\n",
    "):\n",
    "    \"\"\"\n",
    "    Simulates the power using t-test and bayesian testing (only one-sided)\n",
    "    Return total sample size (e.g. we need to devide by 2 for each variant sample size given 50/50 split)\n",
    "    \"\"\"\n",
    "    if one_sided == True:\n",
    "        alternative = \"greater\"\n",
    "        print(\"One sided.\")\n",
    "    else:\n",
    "        alternative = \"two-sided\"\n",
    "        print(\"Two sided tests, except for bayesian which is one sided.\")\n",
    "    #     alternative_z = \"larger\" if one_sided == True else \"two-sided\"\n",
    "    approaches = [\"t\", \"bayes\"]\n",
    "    pvs_bayes = dict()\n",
    "    pvs_t = dict()\n",
    "    # run simulations for each sample size\n",
    "    for idx, size in enumerate(sizes):\n",
    "        pvs_bayes[idx] = []\n",
    "        pvs_t[idx] = []\n",
    "        for realization in range(0, realizations):\n",
    "            df = generate_continuous_data(N=size, effect=effect)\n",
    "            a = df[df[\"group\"] == 0][\"target\"].values\n",
    "            b = df[df[\"group\"] == 1][\"target\"].values\n",
    "            p_t = ttest_ind(b, a, alternative=alternative).pvalue\n",
    "            pvs_t[idx].append(p_t)\n",
    "            test = NormalDataTest()\n",
    "            test.add_variant_data(\"A\", a)\n",
    "            test.add_variant_data(\"B\", b)\n",
    "            results_bayes = test.evaluate(sim_count=5000)\n",
    "            p_b = results_bayes[1][\"prob_being_best\"]\n",
    "            pvs_bayes[idx].append(p_b)\n",
    "        print(f\"{idx} done\")\n",
    "    pvalues_results = {\n",
    "        \"bayes\": pvs_bayes,\n",
    "        \"t\": pvs_t,\n",
    "    }\n",
    "    # compute power lines\n",
    "    power_lines = dict()\n",
    "    power_lines[\"bayes\"] = [\n",
    "        (np.array(pvalues_results[\"bayes\"][i]) > 1.0 - alpha).sum()\n",
    "        / realizations\n",
    "        for i in range(0, len(sizes))\n",
    "    ]\n",
    "    power_lines[\"t\"] = [\n",
    "        (np.array(pvalues_results[\"t\"][i]) < alpha).sum() / realizations\n",
    "        for i in range(0, len(sizes))\n",
    "    ]\n",
    "    # get sample size for 0.8 power:\n",
    "    sample_sizes = dict()\n",
    "    for approach in approaches:\n",
    "        sample_sizes[approach] = _compute_sample_size_from_powerline(\n",
    "            sizes, power_lines[approach], power\n",
    "        )\n",
    "    # prepare output\n",
    "    out = dict()\n",
    "    out[\"sizes\"] = sizes\n",
    "    out[\"approaches\"] = approaches\n",
    "    for approach in approaches:\n",
    "        out[f\"power_{approach}\"] = power_lines[approach]\n",
    "        out[f\"sample_size_{approach}\"] = sample_sizes[approach]\n",
    "    return out"
   ]
  },
  {
   "cell_type": "code",
   "execution_count": null,
   "metadata": {},
   "outputs": [
    {
     "name": "stdout",
     "output_type": "stream",
     "text": [
      "One sided.\n",
      "0 done\n",
      "1 done\n",
      "2 done\n",
      "3 done\n",
      "4 done\n",
      "5 done\n",
      "6 done\n",
      "7 done\n",
      "8 done\n",
      "9 done\n"
     ]
    }
   ],
   "source": [
    "# | hide\n",
    "simulation = simulate_power_continuous(one_sided=True)"
   ]
  },
  {
   "cell_type": "code",
   "execution_count": null,
   "metadata": {},
   "outputs": [],
   "source": [
    "# https://www.stat.ubc.ca/~rollin/stats/ssize/n2.html"
   ]
  },
  {
   "cell_type": "code",
   "execution_count": null,
   "metadata": {},
   "outputs": [],
   "source": [
    "# | export\n",
    "def sample_size_continuous(\n",
    "    mu1=5.00, mu2=5.05, sigma=1, alpha=0.05, power=0.8, one_sided=True\n",
    "):\n",
    "    \"\"\"\n",
    "    forumla: https://towardsdatascience.com/required-sample-size-for-a-b-testing-6f6608dd330a\n",
    "    web calulator: https://www.stat.ubc.ca/~rollin/stats/ssize/n2.html\n",
    "    returns sample size per variant\n",
    "    two-sided test\n",
    "    \"\"\"\n",
    "    assert mu2 >= mu1, \"B needs to be greater or equal to A\"\n",
    "\n",
    "    if one_sided == True:\n",
    "        z1 = norm.ppf(1.0 - alpha)\n",
    "    else:\n",
    "        z1 = norm.ppf(1.0 - alpha / 2.0)\n",
    "\n",
    "    z2 = norm.ppf(power)\n",
    "    return (2 * sigma**2) * ((z1 + z2) ** 2) / ((mu2 - mu1) ** 2)"
   ]
  },
  {
   "cell_type": "code",
   "execution_count": null,
   "metadata": {},
   "outputs": [
    {
     "data": {
      "text/plain": [
       "4946.045785615848"
      ]
     },
     "execution_count": null,
     "metadata": {},
     "output_type": "execute_result"
    }
   ],
   "source": [
    "# |hide\n",
    "sample_size_continuous(mu1=5, mu2=5.05, sigma=1.0)"
   ]
  },
  {
   "cell_type": "code",
   "execution_count": null,
   "metadata": {},
   "outputs": [],
   "source": [
    "# | hide\n",
    "# plot_power(\n",
    "#     simulation,\n",
    "#     added_lines=[\n",
    "#         {\"sample_size\": continuous_sample_size(), \"label\": \"Cont Formula\"}\n",
    "#     ],\n",
    "# )"
   ]
  },
  {
   "cell_type": "code",
   "execution_count": null,
   "metadata": {},
   "outputs": [],
   "source": [
    "# | hide\n",
    "# simulation = simulate_power_binary()\n",
    "# plot_power_binary(\n",
    "#     simulation, [{\"sample_size\": sample_size_chi2(), \"label\": \"chi2\"}]\n",
    "# )"
   ]
  },
  {
   "cell_type": "code",
   "execution_count": null,
   "metadata": {},
   "outputs": [],
   "source": [
    "# | hide\n",
    "from nbdev.showdoc import *"
   ]
  },
  {
   "cell_type": "code",
   "execution_count": null,
   "metadata": {},
   "outputs": [],
   "source": [
    "# | hide\n",
    "import nbdev\n",
    "\n",
    "nbdev.nbdev_export()"
   ]
  },
  {
   "cell_type": "code",
   "execution_count": null,
   "metadata": {},
   "outputs": [],
   "source": []
  }
 ],
 "metadata": {
  "kernelspec": {
   "display_name": "python3",
   "language": "python",
   "name": "python3"
  }
 },
 "nbformat": 4,
 "nbformat_minor": 4
}
