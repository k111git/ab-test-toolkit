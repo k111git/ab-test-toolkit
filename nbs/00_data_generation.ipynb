{
 "cells": [
  {
   "cell_type": "markdown",
   "metadata": {},
   "source": [
    "# Data Generation\n",
    "\n",
    "> Methods to generate synthetic datasets for binary and continuous experiments. "
   ]
  },
  {
   "cell_type": "code",
   "execution_count": null,
   "metadata": {},
   "outputs": [],
   "source": [
    "%load_ext autoreload\n",
    "%autoreload 2"
   ]
  },
  {
   "cell_type": "code",
   "execution_count": null,
   "metadata": {},
   "outputs": [],
   "source": [
    "# | default_exp generator"
   ]
  },
  {
   "cell_type": "code",
   "execution_count": null,
   "metadata": {},
   "outputs": [
    {
     "name": "stderr",
     "output_type": "stream",
     "text": [
      "DEBUG:jupyter_black:config: {'line_length': 79, 'target_versions': {<TargetVersion.PY310: 10>}}\n"
     ]
    },
    {
     "data": {
      "application/javascript": [
       "\n",
       "            (function() {\n",
       "                jb_set_cell(\"# | export\\ndef generate_contingency(N=1000, split=0.50, cr0=0.010, cr1=0.011):\\n    \\\"\\\"\\\"\\n    Generate contingency table using binominal distribution\\n    \\\"\\\"\\\"\\n    assert N > 5, \\\"N need to be more than 5\\\"\\n    assert split >= 0.01, \\\"Split needs to be >= 1%\\\"\\n    assert split <= 0.99, \\\"Split needs to be <= 99%\\\"\\n    while True:\\n        n1 = binom.rvs(N, split, loc=0, size=1)[0]\\n        if n1 < N and n1 > 0:\\n            break\\n    n0 = N - n1\\n    c0 = binom.rvs(n0, cr0, loc=0, size=1)[0]\\n    c1 = binom.rvs(n1, cr1, loc=0, size=1)[0]\\n    df_result = pd.DataFrame(\\n        {\\\"group\\\": [0, 1], \\\"users\\\": [n0, n1], \\\"converted\\\": [c0, c1]}\\n    )\\n    df_result[\\\"not_converted\\\"] = df_result[\\\"users\\\"] - df_result[\\\"converted\\\"]\\n    df_result[\\\"cvr\\\"] = df_result[\\\"converted\\\"] / df_result[\\\"users\\\"]\\n    return df_result\")\n",
       "            })();\n",
       "            "
      ],
      "text/plain": [
       "<IPython.core.display.Javascript object>"
      ]
     },
     "metadata": {},
     "output_type": "display_data"
    }
   ],
   "source": [
    "#| hide \n",
    "import black\n",
    "import jupyter_black\n",
    "\n",
    "jupyter_black.load(\n",
    "    lab=False,\n",
    "    line_length=79,\n",
    "    verbosity=\"DEBUG\",\n",
    "    target_version=black.TargetVersion.PY310,\n",
    ")"
   ]
  },
  {
   "cell_type": "code",
   "execution_count": null,
   "metadata": {},
   "outputs": [],
   "source": [
    "# | export\n",
    "import numpy as np\n",
    "from scipy.stats import binom\n",
    "import pandas as pd\n",
    "\n",
    "import plotly.graph_objects as go\n",
    "from plotly.subplots import make_subplots\n",
    "import plotly.figure_factory as ff\n",
    "\n",
    "from scipy.stats import binom"
   ]
  },
  {
   "cell_type": "code",
   "execution_count": null,
   "metadata": {},
   "outputs": [],
   "source": [
    "# | hide\n",
    "from nbdev.showdoc import *"
   ]
  },
  {
   "cell_type": "code",
   "execution_count": null,
   "metadata": {},
   "outputs": [],
   "source": [
    "# | export\n",
    "def generate_binary_data(N=1000, cr0=0.010, cr1=0.011, split=0.5):\n",
    "    \"\"\"\n",
    "    Generates synthethic data for a binary experiement with two groups (0: Control, 1: Variant).\n",
    "    Inputs:\n",
    "    N: Sample size (total number of users)\n",
    "    Split: % of users assigned randomly to the variant (group 1)\n",
    "    cr0: Conversion rate control\n",
    "    cr1: Conversion rate variant\n",
    "    \"\"\"\n",
    "    N_variant = binom.rvs(N, split, size=1)[0]\n",
    "    N_control = N - N_variant\n",
    "    control = np.random.choice([0, 1], N_control, p=[1 - cr0, cr0])\n",
    "    variant = np.random.choice([0, 1], N_variant, p=[1 - cr1, cr1])\n",
    "    return pd.concat(\n",
    "        [\n",
    "            pd.DataFrame({\"group\": 0, \"target\": control}),\n",
    "            pd.DataFrame({\"group\": 1, \"target\": variant}),\n",
    "        ]\n",
    "    ).sample(frac=1.0)"
   ]
  },
  {
   "cell_type": "code",
   "execution_count": null,
   "metadata": {},
   "outputs": [],
   "source": [
    "# | hide\n",
    "df = generate_binary_data()\n",
    "assert len(df) > 0, \"probably empty dataframe\"\n",
    "assert \"group\" in df.columns, \"group column is missing\"\n",
    "assert \"target\" in df.columns, \"target column is missing\""
   ]
  },
  {
   "cell_type": "code",
   "execution_count": null,
   "metadata": {},
   "outputs": [],
   "source": [
    "# | export\n",
    "def generate_continuous_data(\n",
    "    N=1000, base=5, effect=0, noise=1, std=1, split=0.5\n",
    "):\n",
    "    \"\"\"\n",
    "    Generates synthethic data for a continuous experiement with two groups (0: Control, 1: Variant).\n",
    "    Inputs:\n",
    "    N: Sample size (total number of users)\n",
    "    \"\"\"\n",
    "    i = range(1, N + 1)\n",
    "    d = np.random.binomial(1, split, N)\n",
    "    #     y0 = base + effect * d + noise * np.random.normal(0, std, N)\n",
    "    y0 = np.random.normal(base + effect * d, std, N)\n",
    "    df = pd.DataFrame({\"individual\": i, \"group\": d, \"target\": y0})\n",
    "    return df"
   ]
  },
  {
   "cell_type": "code",
   "execution_count": null,
   "metadata": {},
   "outputs": [],
   "source": [
    "# | hide\n",
    "df = generate_continuous_data()\n",
    "assert len(df) > 0, \"probably empty dataframe\"\n",
    "assert \"group\" in df.columns, \"group column is missing\"\n",
    "assert \"target\" in df.columns, \"target column is missing\""
   ]
  },
  {
   "cell_type": "code",
   "execution_count": null,
   "metadata": {},
   "outputs": [],
   "source": [
    "# | export\n",
    "def data_to_contingency(df):\n",
    "    \"\"\"\n",
    "    Converts output from generate_binary_data to a contingency table\n",
    "    \"\"\"\n",
    "    df_result = df.groupby(\"group\").agg(\n",
    "        users=(\"target\", \"size\"), converted=(\"target\", \"sum\")\n",
    "    )\n",
    "    df_result[\"not_converted\"] = df_result[\"users\"] - df_result[\"converted\"]\n",
    "    df_result[\"cvr\"] = df_result[\"converted\"] / df_result[\"users\"]\n",
    "    return df_result"
   ]
  },
  {
   "cell_type": "code",
   "execution_count": null,
   "metadata": {},
   "outputs": [],
   "source": [
    "# | export\n",
    "def generate_contingency(N=1000, split=0.50, cr0=0.010, cr1=0.011):\n",
    "    \"\"\"\n",
    "    Generate contingency table using binominal distribution\n",
    "    \"\"\"\n",
    "    assert N > 5, \"N need to be more than 5\"\n",
    "    assert split >= 0.01, \"Split needs to be >= 1%\"\n",
    "    assert split <= 0.99, \"Split needs to be <= 99%\"\n",
    "    while True:\n",
    "        n1 = binom.rvs(N, split, loc=0, size=1)[0]\n",
    "        if n1 < N and n1 > 0:\n",
    "            break\n",
    "    n0 = N - n1\n",
    "    c0 = binom.rvs(n0, cr0, loc=0, size=1)[0]\n",
    "    c1 = binom.rvs(n1, cr1, loc=0, size=1)[0]\n",
    "    df_result = pd.DataFrame(\n",
    "        {\"group\": [0, 1], \"users\": [n0, n1], \"converted\": [c0, c1]}\n",
    "    )\n",
    "    df_result[\"not_converted\"] = df_result[\"users\"] - df_result[\"converted\"]\n",
    "    df_result[\"cvr\"] = df_result[\"converted\"] / df_result[\"users\"]\n",
    "    return df_result.set_index('group')"
   ]
  },
  {
   "cell_type": "code",
   "execution_count": null,
   "metadata": {},
   "outputs": [],
   "source": []
  },
  {
   "cell_type": "code",
   "execution_count": null,
   "metadata": {},
   "outputs": [],
   "source": [
    "# | hide\n",
    "import nbdev\n",
    "\n",
    "nbdev.nbdev_export()"
   ]
  },
  {
   "cell_type": "code",
   "execution_count": null,
   "metadata": {},
   "outputs": [],
   "source": []
  }
 ],
 "metadata": {
  "kernelspec": {
   "display_name": "python3",
   "language": "python",
   "name": "python3"
  }
 },
 "nbformat": 4,
 "nbformat_minor": 4
}
