{
 "cells": [
  {
   "cell_type": "markdown",
   "metadata": {},
   "source": [
    "# Plotting\n",
    "\n",
    "> Methods to visualize data."
   ]
  },
  {
   "cell_type": "code",
   "execution_count": null,
   "metadata": {},
   "outputs": [
    {
     "name": "stdout",
     "output_type": "stream",
     "text": [
      "The autoreload extension is already loaded. To reload it, use:\n",
      "  %reload_ext autoreload\n"
     ]
    }
   ],
   "source": [
    "%load_ext autoreload\n",
    "%autoreload 2"
   ]
  },
  {
   "cell_type": "code",
   "execution_count": null,
   "metadata": {},
   "outputs": [],
   "source": [
    "# | default_exp plotting"
   ]
  },
  {
   "cell_type": "code",
   "execution_count": null,
   "metadata": {},
   "outputs": [
    {
     "name": "stderr",
     "output_type": "stream",
     "text": [
      "DEBUG:jupyter_black:config: {'line_length': 79, 'target_versions': {<TargetVersion.PY310: 10>}}\n"
     ]
    },
    {
     "data": {
      "text/html": [
       "\n",
       "                <script type=\"application/javascript\" id=\"jupyter_black\">\n",
       "                function jb_set_cell(\n",
       "                        jb_formatted_code\n",
       "                        ) {\n",
       "                    for (var cell of Jupyter.notebook.get_cells()) {\n",
       "                        if (cell.input_prompt_number == \"*\") {\n",
       "                            cell.set_text(jb_formatted_code)\n",
       "                            return\n",
       "                        }\n",
       "                    }\n",
       "                }\n",
       "                </script>\n",
       "                "
      ],
      "text/plain": [
       "<IPython.core.display.HTML object>"
      ]
     },
     "metadata": {},
     "output_type": "display_data"
    }
   ],
   "source": [
    "#| hide \n",
    "import black\n",
    "import jupyter_black\n",
    "\n",
    "jupyter_black.load(\n",
    "    lab=False,\n",
    "    line_length=79,\n",
    "    verbosity=\"DEBUG\",\n",
    "    target_version=black.TargetVersion.PY310,\n",
    ")"
   ]
  },
  {
   "cell_type": "code",
   "execution_count": null,
   "metadata": {},
   "outputs": [
    {
     "data": {
      "text/html": [
       "        <script type=\"text/javascript\">\n",
       "        window.PlotlyConfig = {MathJaxConfig: 'local'};\n",
       "        if (window.MathJax && window.MathJax.Hub && window.MathJax.Hub.Config) {window.MathJax.Hub.Config({SVG: {font: \"STIX-Web\"}});}\n",
       "        if (typeof require !== 'undefined') {\n",
       "        require.undef(\"plotly\");\n",
       "        requirejs.config({\n",
       "            paths: {\n",
       "                'plotly': ['https://cdn.plot.ly/plotly-2.20.0.min']\n",
       "            }\n",
       "        });\n",
       "        require(['plotly'], function(Plotly) {\n",
       "            window._Plotly = Plotly;\n",
       "        });\n",
       "        }\n",
       "        </script>\n",
       "        "
      ]
     },
     "metadata": {},
     "output_type": "display_data"
    }
   ],
   "source": [
    "# | hide\n",
    "from plotly.offline import init_notebook_mode\n",
    "\n",
    "init_notebook_mode(connected=True)"
   ]
  },
  {
   "cell_type": "code",
   "execution_count": null,
   "metadata": {},
   "outputs": [],
   "source": [
    "# | export\n",
    "import numpy as np\n",
    "from scipy.stats import binom\n",
    "import pandas as pd\n",
    "\n",
    "import plotly.graph_objects as go\n",
    "from plotly.subplots import make_subplots\n",
    "import plotly.figure_factory as ff\n",
    "\n",
    "from scipy.stats import beta\n",
    "\n",
    "from ab_test_toolkit.power import sample_size_binary, sample_size_continuous"
   ]
  },
  {
   "cell_type": "code",
   "execution_count": null,
   "metadata": {},
   "outputs": [],
   "source": [
    "# | hide\n",
    "from nbdev.showdoc import *"
   ]
  },
  {
   "cell_type": "code",
   "execution_count": null,
   "metadata": {},
   "outputs": [],
   "source": [
    "# | export\n",
    "def plot_distribution(df, show_rug=True):\n",
    "    \"\"\"\n",
    "    Plots the distribution for both groups of generate_continuous_data\n",
    "    \"\"\"\n",
    "    fig = ff.create_distplot(\n",
    "        [\n",
    "            df[df[\"group\"] == 0][\"target\"].values,\n",
    "            df[df[\"group\"] == 1][\"target\"].values,\n",
    "        ],\n",
    "        [\"Control\", \"Variant\"],\n",
    "        show_hist=False,\n",
    "        show_rug=show_rug,\n",
    "    )\n",
    "\n",
    "    fig.update_layout(\n",
    "        template=\"simple_white\",\n",
    "        xaxis_title=\"Target\",\n",
    "        yaxis_title=\"PDF\",\n",
    "        legend=dict(yanchor=\"top\", y=0.99, xanchor=\"right\", x=0.95),\n",
    "    )\n",
    "    return fig"
   ]
  },
  {
   "cell_type": "code",
   "execution_count": null,
   "metadata": {},
   "outputs": [],
   "source": [
    "# | export\n",
    "def plot_power(simulation, added_lines=[], is_effect=True):\n",
    "    \"\"\"\n",
    "    Takes simulation dict and plots the power over sample sizes\n",
    "    Added lines: plot horizontal lines for additional sample size estimations, takes a list of dicts with sample_size=sample_size,label=label\n",
    "    is_effect: True: there is an effect in reality, hence we are interested in power. False: we are interested in false positives.\n",
    "    \"\"\"\n",
    "    approaches = simulation[\"approaches\"]\n",
    "    if is_effect == True:\n",
    "        ytitle = \"Power\"\n",
    "        yrange=[0,1]\n",
    "    elif is_effect == False:\n",
    "        ytitle = \"False positives\"\n",
    "        yrange=[0,0.1]\n",
    "    else:\n",
    "        raise Exception(\n",
    "            \"Non boolean for is effect encountered in power plot function.\"\n",
    "        )\n",
    "        \n",
    "    fig = go.Figure()\n",
    "    for approach in approaches:\n",
    "        fig.add_trace(\n",
    "            go.Scatter(\n",
    "                x=simulation[\"sizes\"] / 2.0,\n",
    "                y=simulation[f\"power_{approach}\"],\n",
    "                mode=\"lines+markers\",\n",
    "                name=approach,\n",
    "            )\n",
    "        )\n",
    "\n",
    "    for approach in approaches:\n",
    "        fig.add_trace(\n",
    "            go.Scatter(\n",
    "                x=2 * [simulation[f\"sample_size_{approach}\"] / 2.0],\n",
    "                y=[0, 1],\n",
    "                mode=\"lines\",\n",
    "                line_dash=\"dash\",\n",
    "                name=f\"Sample size ({approach})\",\n",
    "            )\n",
    "        )\n",
    "    for added_line in added_lines:\n",
    "        fig.add_trace(\n",
    "            go.Scatter(\n",
    "                x=2 * [added_line[\"sample_size\"]],\n",
    "                y=[0, 1],\n",
    "                mode=\"lines\",\n",
    "                line_dash=\"dash\",\n",
    "                name=added_line[\"label\"],\n",
    "            )\n",
    "        )\n",
    "    if is_effect == False:\n",
    "        fig.add_trace(\n",
    "            go.Scatter(\n",
    "                x=[0, simulation[\"sizes\"].max() / 2.0],\n",
    "                y=[0.05, 0.05],\n",
    "                mode=\"lines\",\n",
    "                line_dash=\"dash\",\n",
    "                line_color=\"gray\",\n",
    "                line_width=1,\n",
    "            )\n",
    "        )\n",
    "\n",
    "\n",
    "    fig.update_layout(\n",
    "        template=\"simple_white\",\n",
    "        xaxis_title=\"Sample size per variation\",\n",
    "        yaxis_title=ytitle,\n",
    "        yaxis_range=yrange,\n",
    "        legend=dict(yanchor=\"top\", y=1, xanchor=\"left\", x=0.0),\n",
    "    )\n",
    "    fig.update_xaxes(showspikes=True, spikemode=\"across\", spikethickness=1)\n",
    "    fig.update_yaxes(showspikes=True, spikemode=\"across\", spikethickness=1)\n",
    "    fig.update_layout(spikedistance=1000, hoverdistance=100)\n",
    "\n",
    "    # fig.update_layout(showlegend=True)\n",
    "    return fig"
   ]
  },
  {
   "cell_type": "code",
   "execution_count": null,
   "metadata": {},
   "outputs": [],
   "source": [
    "# |hide\n",
    "\n",
    "from ab_test_toolkit.generator import (\n",
    "    generate_binary_data,\n",
    "    data_to_contingency,\n",
    "    generate_continuous_data,\n",
    ")"
   ]
  },
  {
   "cell_type": "code",
   "execution_count": null,
   "metadata": {},
   "outputs": [],
   "source": [
    "# |export\n",
    "def plot_betas(df_contingency, xmin=0.0, xmax=0.2, names=[\"A\", \"B\"]):\n",
    "    \"\"\"\n",
    "    Plots two beta distributions, one for control and for variant.\n",
    "    Takes as input a contigency table as dataframe\n",
    "    \"\"\"\n",
    "    betas = dict()\n",
    "    for group in [0, 1]:\n",
    "        betas[group] = beta(\n",
    "            df_contingency.loc[group].converted + 1,\n",
    "            df_contingency.loc[group].not_converted + 1,\n",
    "        )\n",
    "\n",
    "    x = np.linspace(xmin, xmax, 500)\n",
    "\n",
    "    fig = make_subplots()\n",
    "\n",
    "    for group in [0, 1]:\n",
    "        fig.add_trace(\n",
    "            go.Scatter(\n",
    "                x=x, y=betas[group].pdf(x), mode=\"lines\", name=names[group]\n",
    "            )\n",
    "        )\n",
    "\n",
    "    for group in [0, 1]:\n",
    "        fig.add_vline(\n",
    "            x=df_contingency.loc[group].cvr, line_width=2, line_dash=\"dash\"\n",
    "        )\n",
    "\n",
    "    fig.update_layout(\n",
    "        title=\"Distribution of true CVR\",\n",
    "        template=\"simple_white\",\n",
    "        xaxis_title=\"CVR\",\n",
    "        yaxis_title=\"PDF\",\n",
    "        legend=dict(yanchor=\"top\", y=1, xanchor=\"left\", x=0.0),\n",
    "    )\n",
    "\n",
    "    return fig"
   ]
  },
  {
   "cell_type": "code",
   "execution_count": null,
   "metadata": {},
   "outputs": [],
   "source": [
    "#| export\n",
    "def plot_binary_power(cr0=0.01, cr1=0.012, alpha=0.05, one_sided=True,vline_power=0.8,powers=np.arange(0.1, 0.91, 0.025)):\n",
    "    \"\"\"\n",
    "    Generate a chart that shows the \n",
    "    \"\"\"\n",
    "    sizes = []\n",
    "    powers=powers[powers>alpha]\n",
    "    for power in powers:\n",
    "        size = sample_size_binary(\n",
    "            cr0=cr0, cr1=cr1, alpha=alpha, power=power, one_sided=one_sided\n",
    "        )\n",
    "        sizes.append(size)\n",
    "        fig = make_subplots()\n",
    "\n",
    "    fig.add_trace(\n",
    "        go.Scatter(\n",
    "            x=sizes,\n",
    "            y=powers,\n",
    "            mode=\"lines\",\n",
    "        )\n",
    "    )\n",
    "\n",
    "    fig.add_vline(\n",
    "        x=sample_size_binary(\n",
    "            cr0=cr0, cr1=cr1, alpha=alpha, power=vline_power, one_sided=one_sided\n",
    "        ),\n",
    "        line_width=2,\n",
    "        line_dash=\"dash\",\n",
    "        line_color=\"gray\",\n",
    "    )\n",
    "\n",
    "    fig.update_layout(\n",
    "        title=\"Statistical power vs sample size (binary)\",\n",
    "        template=\"simple_white\",\n",
    "        xaxis_title=\"Sample size per variant\",\n",
    "        yaxis_title=\"Power\",\n",
    "        legend=dict(yanchor=\"top\", y=1, xanchor=\"left\", x=0.0),\n",
    "    )\n",
    "    fig.update_xaxes(showspikes=True, spikemode=\"across\", spikethickness=1)\n",
    "    fig.update_yaxes(showspikes=True, spikemode=\"across\", spikethickness=1)\n",
    "    fig.update_layout(spikedistance=1000, hoverdistance=100)\n",
    "    return fig"
   ]
  },
  {
   "cell_type": "code",
   "execution_count": null,
   "metadata": {},
   "outputs": [],
   "source": [
    "# |hide\n",
    "# fig = plot_binary_power()\n",
    "# fig = fig.update_layout(\n",
    "#     title=\"\", margin=dict(l=2, r=2, t=2, b=2), hovermode=\"x unified\"\n",
    "# )\n",
    "# fig.show()"
   ]
  },
  {
   "cell_type": "code",
   "execution_count": null,
   "metadata": {},
   "outputs": [],
   "source": [
    "#| export\n",
    "def plot_continuous_power(\n",
    "    mu1=5.0, mu2=5.05, sigma=1, alpha=0.05, one_sided=True, vline_power=0.8\n",
    "):\n",
    "    powers = np.arange(0.1, 0.91, 0.025)\n",
    "    sizes = []\n",
    "    for power in powers:\n",
    "        size = sample_size_continuous(\n",
    "            mu1=mu1,\n",
    "            mu2=mu2,\n",
    "            sigma=sigma,\n",
    "            alpha=alpha,\n",
    "            power=power,\n",
    "            one_sided=one_sided,\n",
    "        )\n",
    "        sizes.append(size)\n",
    "        fig = make_subplots()\n",
    "\n",
    "    fig.add_trace(\n",
    "        go.Scatter(\n",
    "            x=sizes,\n",
    "            y=powers,\n",
    "            mode=\"lines\",\n",
    "        )\n",
    "    )\n",
    "\n",
    "    fig.add_vline(\n",
    "        x=sample_size_continuous(\n",
    "            mu1=mu1,\n",
    "            mu2=mu2,\n",
    "            sigma=sigma,\n",
    "            alpha=alpha,\n",
    "            power=vline_power,\n",
    "            one_sided=one_sided,\n",
    "        ),\n",
    "        line_width=2,\n",
    "        line_dash=\"dash\",\n",
    "        line_color=\"gray\",\n",
    "    )\n",
    "\n",
    "    fig.update_layout(\n",
    "        title=\"Statistical power vs sample size (continuous)\",\n",
    "        template=\"simple_white\",\n",
    "        xaxis_title=\"Sample size per variant\",\n",
    "        yaxis_title=\"Power\",\n",
    "        hovermode=\"y unified\",\n",
    "        legend=dict(yanchor=\"top\", y=1, xanchor=\"left\", x=0.0),\n",
    "    )\n",
    "    fig.update_xaxes(showspikes=True, spikemode=\"across\",spikethickness=1)\n",
    "    fig.update_yaxes(showspikes=True, spikemode=\"across\",spikethickness=1)\n",
    "    fig.update_layout(spikedistance=1000, hoverdistance=100)\n",
    "    return fig"
   ]
  },
  {
   "cell_type": "code",
   "execution_count": null,
   "metadata": {},
   "outputs": [],
   "source": [
    "# |hide\n",
    "# fig = plot_continuous_power()\n",
    "# # fig = fig.update_layout(\n",
    "# #     title=\"\", margin=dict(l=2, r=2, t=2, b=2), hovermode=\"x unified\"\n",
    "# # )\n",
    "# fig.show()"
   ]
  },
  {
   "cell_type": "code",
   "execution_count": null,
   "metadata": {},
   "outputs": [],
   "source": []
  },
  {
   "cell_type": "code",
   "execution_count": null,
   "metadata": {},
   "outputs": [],
   "source": [
    "# | hide\n",
    "import nbdev\n",
    "\n",
    "nbdev.nbdev_export()"
   ]
  },
  {
   "cell_type": "code",
   "execution_count": null,
   "metadata": {},
   "outputs": [],
   "source": []
  }
 ],
 "metadata": {
  "kernelspec": {
   "display_name": "python3",
   "language": "python",
   "name": "python3"
  }
 },
 "nbformat": 4,
 "nbformat_minor": 4
}
